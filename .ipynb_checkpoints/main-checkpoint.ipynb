{
 "cells": [
  {
   "cell_type": "code",
   "execution_count": 4,
   "id": "e506bbd9",
   "metadata": {},
   "outputs": [
    {
     "ename": "FileNotFoundError",
     "evalue": "[Errno 2] No such file or directory: 'file/10001.pdf'",
     "output_type": "error",
     "traceback": [
      "\u001b[1;31m---------------------------------------------------------------------------\u001b[0m",
      "\u001b[1;31mFileNotFoundError\u001b[0m                         Traceback (most recent call last)",
      "\u001b[1;32m<ipython-input-4-eadbf109802e>\u001b[0m in \u001b[0;36m<module>\u001b[1;34m\u001b[0m\n\u001b[0;32m     22\u001b[0m     \u001b[0mpdf\u001b[0m\u001b[1;33m.\u001b[0m\u001b[0mcell\u001b[0m\u001b[1;33m(\u001b[0m\u001b[0mw\u001b[0m\u001b[1;33m=\u001b[0m\u001b[1;36m0\u001b[0m\u001b[1;33m,\u001b[0m \u001b[0mh\u001b[0m\u001b[1;33m=\u001b[0m\u001b[1;36m10\u001b[0m\u001b[1;33m,\u001b[0m \u001b[0mtxt\u001b[0m\u001b[1;33m=\u001b[0m\u001b[1;34m\"Date of Issue: : \"\u001b[0m\u001b[1;33m+\u001b[0m\u001b[0mdate\u001b[0m\u001b[1;33m,\u001b[0m \u001b[0mborder\u001b[0m\u001b[1;33m=\u001b[0m\u001b[1;36m0\u001b[0m\u001b[1;33m,\u001b[0m \u001b[0mln\u001b[0m\u001b[1;33m=\u001b[0m\u001b[1;36m1\u001b[0m\u001b[1;33m)\u001b[0m\u001b[1;33m\u001b[0m\u001b[1;33m\u001b[0m\u001b[0m\n\u001b[0;32m     23\u001b[0m \u001b[1;33m\u001b[0m\u001b[0m\n\u001b[1;32m---> 24\u001b[1;33m     \u001b[0mpdf\u001b[0m\u001b[1;33m.\u001b[0m\u001b[0moutput\u001b[0m\u001b[1;33m(\u001b[0m\u001b[1;34mf\"file/{invoice_number}.pdf\"\u001b[0m\u001b[1;33m)\u001b[0m\u001b[1;33m\u001b[0m\u001b[1;33m\u001b[0m\u001b[0m\n\u001b[0m",
      "\u001b[1;32mc:\\users\\sukhada\\appdata\\local\\programs\\python\\python36\\lib\\site-packages\\fpdf\\fpdf.py\u001b[0m in \u001b[0;36moutput\u001b[1;34m(self, name, dest)\u001b[0m\n\u001b[0;32m   1077\u001b[0m         \u001b[1;32melif\u001b[0m \u001b[0mdest\u001b[0m\u001b[1;33m==\u001b[0m\u001b[1;34m'F'\u001b[0m\u001b[1;33m:\u001b[0m\u001b[1;33m\u001b[0m\u001b[1;33m\u001b[0m\u001b[0m\n\u001b[0;32m   1078\u001b[0m             \u001b[1;31m#Save to local file\u001b[0m\u001b[1;33m\u001b[0m\u001b[1;33m\u001b[0m\u001b[1;33m\u001b[0m\u001b[0m\n\u001b[1;32m-> 1079\u001b[1;33m             \u001b[0mf\u001b[0m\u001b[1;33m=\u001b[0m\u001b[0mopen\u001b[0m\u001b[1;33m(\u001b[0m\u001b[0mname\u001b[0m\u001b[1;33m,\u001b[0m\u001b[1;34m'wb'\u001b[0m\u001b[1;33m)\u001b[0m\u001b[1;33m\u001b[0m\u001b[1;33m\u001b[0m\u001b[0m\n\u001b[0m\u001b[0;32m   1080\u001b[0m             \u001b[1;32mif\u001b[0m\u001b[1;33m(\u001b[0m\u001b[1;32mnot\u001b[0m \u001b[0mf\u001b[0m\u001b[1;33m)\u001b[0m\u001b[1;33m:\u001b[0m\u001b[1;33m\u001b[0m\u001b[1;33m\u001b[0m\u001b[0m\n\u001b[0;32m   1081\u001b[0m                 \u001b[0mself\u001b[0m\u001b[1;33m.\u001b[0m\u001b[0merror\u001b[0m\u001b[1;33m(\u001b[0m\u001b[1;34m'Unable to create output file: '\u001b[0m\u001b[1;33m+\u001b[0m\u001b[0mname\u001b[0m\u001b[1;33m)\u001b[0m\u001b[1;33m\u001b[0m\u001b[1;33m\u001b[0m\u001b[0m\n",
      "\u001b[1;31mFileNotFoundError\u001b[0m: [Errno 2] No such file or directory: 'file/10001.pdf'"
     ]
    }
   ],
   "source": [
    "import pandas as pd\n",
    "import glob\n",
    "from fpdf import FPDF\n",
    "from pathlib import Path\n",
    "\n",
    "filepaths = glob.glob(\"invoices/*.xlsx\")\n",
    "\n",
    "pdf = FPDF(orientation=\"p\", unit=\"mm\", format=\"A4\")\n",
    "pdf.set_auto_page_break(auto=False, margin=0)\n",
    "\n",
    "for filepath in filepaths:\n",
    "    df = pd.read_excel(filepath)\n",
    "    \n",
    "    file_name = Path(filepath).stem\n",
    "    \n",
    "    invoice_number, date = file_name.split(\"-\")\n",
    "    \n",
    "    pdf.add_page()\n",
    "    pdf.set_font(family=\"Times\", size=16)\n",
    "    \n",
    "    pdf.cell(w=0, h=10, txt=\"Invoice no: \"+invoice_number, border=0, ln=1)\n",
    "    pdf.cell(w=0, h=10, txt=\"Date of Issue: : \"+date, border=0, ln=1)\n",
    "    \n",
    "    pdf.output(f\"file/{invoice_number}.pdf\")"
   ]
  },
  {
   "cell_type": "code",
   "execution_count": null,
   "id": "0b6a93f4",
   "metadata": {},
   "outputs": [],
   "source": []
  },
  {
   "cell_type": "code",
   "execution_count": 47,
   "id": "089fd175",
   "metadata": {},
   "outputs": [
    {
     "name": "stdout",
     "output_type": "stream",
     "text": [
      "   price_per_unit\n",
      "0             151\n",
      "1              37\n",
      "   price_per_unit\n",
      "0              34\n",
      "   price_per_unit\n",
      "0             1.1\n",
      "1             0.7\n",
      "2             2.1\n"
     ]
    }
   ],
   "source": [
    "import pandas as pd\n",
    "import glob\n",
    "\n",
    "filepaths = glob.glob(\"invoices/*.xlsx\")\n",
    "\n",
    "for filepath in filepaths:\n",
    "    df = pd.read_excel(filepath)\n",
    "    print(df[[\"price_per_unit\"]])"
   ]
  },
  {
   "cell_type": "code",
   "execution_count": null,
   "id": "f7555c73",
   "metadata": {},
   "outputs": [],
   "source": []
  }
 ],
 "metadata": {
  "kernelspec": {
   "display_name": "Python 3",
   "language": "python",
   "name": "python3"
  },
  "language_info": {
   "codemirror_mode": {
    "name": "ipython",
    "version": 3
   },
   "file_extension": ".py",
   "mimetype": "text/x-python",
   "name": "python",
   "nbconvert_exporter": "python",
   "pygments_lexer": "ipython3",
   "version": "3.6.7"
  }
 },
 "nbformat": 4,
 "nbformat_minor": 5
}
