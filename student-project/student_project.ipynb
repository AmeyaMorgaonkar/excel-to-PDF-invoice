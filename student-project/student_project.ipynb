{
 "cells": [
  {
   "cell_type": "code",
   "execution_count": 32,
   "id": "8d6e7cd3",
   "metadata": {},
   "outputs": [
    {
     "data": {
      "text/plain": [
       "''"
      ]
     },
     "execution_count": 32,
     "metadata": {},
     "output_type": "execute_result"
    }
   ],
   "source": [
    "import glob\n",
    "from fpdf import FPDF\n",
    "from pathlib import Path\n",
    "\n",
    "filepaths = glob.glob(\"Text+Files/*.txt\")\n",
    "\n",
    "pdf = FPDF(orientation=\"p\", unit=\"mm\", format=\"A4\")\n",
    "pdf.set_auto_page_break(auto=False, margin=0)\n",
    "\n",
    "\n",
    "for filepath in filepaths:\n",
    "    \n",
    "    with open(filepath, 'r') as file:\n",
    "        text = file.read()\n",
    "    \n",
    "    file_name = Path(filepath).stem\n",
    "    string_file_name = str(file_name).title()\n",
    "    \n",
    "    pdf.add_page()\n",
    "    pdf.set_font(family=\"Times\", size=25)\n",
    "    pdf.cell(w=0, h=10, txt=string_file_name, border=0)\n",
    "    pdf.line(10, 20, 200, 20)\n",
    "    pdf.ln(20)\n",
    "    \n",
    "    pdf.set_font(family=\"Times\", size=16)\n",
    "    pdf.multi_cell(w=0, h=10, txt=text, border=0)\n",
    "    \n",
    "    \n",
    "pdf.output(\"ouput.pdf\")"
   ]
  },
  {
   "cell_type": "code",
   "execution_count": null,
   "id": "1e4e0ecf",
   "metadata": {},
   "outputs": [],
   "source": []
  }
 ],
 "metadata": {
  "kernelspec": {
   "display_name": "Python 3",
   "language": "python",
   "name": "python3"
  },
  "language_info": {
   "codemirror_mode": {
    "name": "ipython",
    "version": 3
   },
   "file_extension": ".py",
   "mimetype": "text/x-python",
   "name": "python",
   "nbconvert_exporter": "python",
   "pygments_lexer": "ipython3",
   "version": "3.6.7"
  }
 },
 "nbformat": 4,
 "nbformat_minor": 5
}
