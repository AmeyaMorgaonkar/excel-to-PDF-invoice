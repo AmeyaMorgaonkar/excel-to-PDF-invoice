{
 "cells": [
  {
   "cell_type": "code",
   "execution_count": 23,
   "id": "e506bbd9",
   "metadata": {},
   "outputs": [],
   "source": [
    "import pandas as pd\n",
    "import glob\n",
    "from fpdf import FPDF\n",
    "from pathlib import Path\n",
    "\n",
    "filepaths = glob.glob(\"invoices/*.xlsx\")\n",
    "\n",
    "pdf = FPDF(orientation=\"p\", unit=\"mm\", format=\"A4\")\n",
    "pdf.set_auto_page_break(auto=False, margin=0)\n",
    "\n",
    "for filepath in filepaths:\n",
    "    df = pd.read_excel(filepath)\n",
    "    \n",
    "    file_name = Path(filepath).stem\n",
    "    \n",
    "    invoice_number, date = file_name.split(\"-\")\n",
    "    \n",
    "    pdf.add_page()\n",
    "    pdf.set_font(family=\"Times\", size=16)\n",
    "    \n",
    "    pdf.cell(w=0, h=10, txt=\"Invoice no: \"+invoice_number, border=0, ln=1)\n",
    "    pdf.cell(w=0, h=10, txt=\"Date of Issue: : \"+date, border=0, ln=1)\n",
    "    \n",
    "    pdf.output(f\"{invoice_number}.pdf\")"
   ]
  },
  {
   "cell_type": "code",
   "execution_count": null,
   "id": "0b6a93f4",
   "metadata": {},
   "outputs": [],
   "source": []
  },
  {
   "cell_type": "code",
   "execution_count": 47,
   "id": "089fd175",
   "metadata": {},
   "outputs": [
    {
     "name": "stdout",
     "output_type": "stream",
     "text": [
      "   price_per_unit\n",
      "0             151\n",
      "1              37\n",
      "   price_per_unit\n",
      "0              34\n",
      "   price_per_unit\n",
      "0             1.1\n",
      "1             0.7\n",
      "2             2.1\n"
     ]
    }
   ],
   "source": [
    "import pandas as pd\n",
    "import glob\n",
    "\n",
    "filepaths = glob.glob(\"invoices/*.xlsx\")\n",
    "\n",
    "for filepath in filepaths:\n",
    "    df = pd.read_excel(filepath)\n",
    "    print(df[[\"price_per_unit\"]])"
   ]
  },
  {
   "cell_type": "code",
   "execution_count": null,
   "id": "f7555c73",
   "metadata": {},
   "outputs": [],
   "source": []
  }
 ],
 "metadata": {
  "kernelspec": {
   "display_name": "Python 3",
   "language": "python",
   "name": "python3"
  },
  "language_info": {
   "codemirror_mode": {
    "name": "ipython",
    "version": 3
   },
   "file_extension": ".py",
   "mimetype": "text/x-python",
   "name": "python",
   "nbconvert_exporter": "python",
   "pygments_lexer": "ipython3",
   "version": "3.6.7"
  }
 },
 "nbformat": 4,
 "nbformat_minor": 5
}
