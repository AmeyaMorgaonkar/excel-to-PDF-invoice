{
 "cells": [
  {
   "cell_type": "code",
   "execution_count": 3,
   "id": "e506bbd9",
   "metadata": {},
   "outputs": [
    {
     "name": "stdout",
     "output_type": "stream",
     "text": [
      "   product_id              product_name  amount_purchased  price_per_unit  \\\n",
      "0     8198129         Water Pump Melody                 2             151   \n",
      "1     4772822  Microscope Landless Land                 1              37   \n",
      "\n",
      "   total_price  \n",
      "0          302  \n",
      "1           37  \n",
      "   product_id    product_name  amount_purchased  price_per_unit  total_price\n",
      "0     8870011  Paint Brush V3                 2              34           68\n",
      "   product_id             product_name  amount_purchased  price_per_unit  \\\n",
      "0     1883191          Spoon Rotonda 4                 6             1.1   \n",
      "1     1091919  Standard Keyboard Key R                 1             0.7   \n",
      "2     7100190       Tea Cup Purple Sea                12             2.1   \n",
      "\n",
      "   total_price  \n",
      "0          6.6  \n",
      "1          0.7  \n",
      "2         25.2  \n"
     ]
    }
   ],
   "source": [
    "import pandas as pd\n",
    "import glob\n",
    "\n",
    "filepaths = glob.glob(\"invoices/*.xlsx\")\n",
    "\n",
    "for filepath in filepaths:\n",
    "    df = pd.read_excel(filepath)\n",
    "    "
   ]
  },
  {
   "cell_type": "code",
   "execution_count": null,
   "id": "0b6a93f4",
   "metadata": {},
   "outputs": [],
   "source": []
  }
 ],
 "metadata": {
  "kernelspec": {
   "display_name": "Python 3",
   "language": "python",
   "name": "python3"
  },
  "language_info": {
   "codemirror_mode": {
    "name": "ipython",
    "version": 3
   },
   "file_extension": ".py",
   "mimetype": "text/x-python",
   "name": "python",
   "nbconvert_exporter": "python",
   "pygments_lexer": "ipython3",
   "version": "3.6.7"
  }
 },
 "nbformat": 4,
 "nbformat_minor": 5
}
